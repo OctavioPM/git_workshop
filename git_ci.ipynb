{
 "cells": [
  {
   "cell_type": "markdown",
   "id": "cd2bdb3a-a480-4194-b03e-6aac34651897",
   "metadata": {
    "tags": []
   },
   "source": [
    "# Version Control and CI Tutorial\n",
    "\n",
    "## Outline\n",
    "1. A brief overview of testing with pytest\n",
    "1. **Version Control with Git and GitLab**\n",
    "    1. Git basics and best practices\n",
    "    1. Advanced Git usage\n",
    "1. Continuous Integration using GitLab CI/CD"
   ]
  },
  {
   "cell_type": "markdown",
   "id": "0b368d1e-0eaa-45d0-8fe6-a832c2ea9321",
   "metadata": {
    "tags": []
   },
   "source": [
    "---\n",
    "# A brief overview of testing with pytest"
   ]
  },
  {
   "cell_type": "markdown",
   "id": "fd991170-44fe-482e-8d91-6efe2dcb929d",
   "metadata": {
    "jp-MarkdownHeadingCollapsed": true,
    "tags": []
   },
   "source": [
    "Additional material: \n",
    "- [Pytest documentation](https://docs.pytest.org/)\n",
    "- [Python Testing with pytest (book)](https://pythontest.com/pytest-book/)"
   ]
  },
  {
   "cell_type": "markdown",
   "id": "164e8713-cf02-4b94-88c7-cc297e379691",
   "metadata": {},
   "source": [
    "When developing code, it is inherent to introduce bugs.\n",
    "However, it is important to be able to detect those bugs and be able to fix them quickly.\n",
    "A great way to do this is to write test for the code.\n",
    "<br/>With test covering a good portion of a code base, it becomes easier to make change knowing that it will not break the project.\n",
    "This will greatly speedup development in the long run.\n",
    "\n",
    "Althought not the main focus of this tutorial, this section will quickly introduce how to write a test for a Python function."
   ]
  },
  {
   "cell_type": "markdown",
   "id": "da778cf9-3e82-4c15-a4d1-d170983f31e1",
   "metadata": {
    "tags": []
   },
   "source": [
    "## Writing a simple function and test."
   ]
  },
  {
   "cell_type": "markdown",
   "id": "22acff8c-50e0-4ebe-bad0-611934a7c89a",
   "metadata": {
    "tags": []
   },
   "source": [
    "Let's write a simple function to greet users.\n",
    "For now, the function will do nothing.\n",
    "\n",
    "We want the function to greet the given user; or say \"Hello World!\" if no user is given.\n",
    "\n",
    "```python\n",
    "# tutorial.greeting\n",
    "from typing import Optional\n",
    "\n",
    "\n",
    "def greet(username: Optional[str] = None) -> str:\n",
    "    \"\"\"Greet a given user.\n",
    "\n",
    "    When no user is given, this function will return \"Hello World!\".\n",
    "\n",
    "    parameters\n",
    "    ----------\n",
    "    username: Optional[str]\n",
    "        Name of the user.\n",
    "\n",
    "    returns\n",
    "    -------\n",
    "    str\n",
    "        Personalized greeting.\n",
    "    \"\"\"\n",
    "    pass\n",
    "\n",
    "```"
   ]
  },
  {
   "cell_type": "markdown",
   "id": "697fe23f-d2f3-4c59-b7f2-b9c8f44e9838",
   "metadata": {
    "tags": []
   },
   "source": [
    "Then, let's write a test that will make sure our function works as expected.\n",
    "```python\n",
    "# tests.test_greeting\n",
    "import pytest\n",
    "\n",
    "from tutorial.greeting import greet\n",
    "\n",
    "\n",
    "def test_greet() -> None:\n",
    "    assert greet(\"Alice\") == \"Hello Alice!\"\n",
    "    assert greet(\"Bob\") == \"Hello Bob!\"\n",
    "    if greet() != \"Hello World!\":\n",
    "        pytest.fail()  \n",
    "\n",
    "```\n",
    "Let's execute the test we wrote. In a terminal run the command\n",
    "```bash\n",
    "pytest ./tests\n",
    "```\n",
    "The test should fail as expeceted since the function does nothing for now."
   ]
  },
  {
   "cell_type": "markdown",
   "id": "3c94a03f-673f-478b-a4d3-c9d54b41b509",
   "metadata": {
    "tags": []
   },
   "source": [
    "Let's write the core of our function and run the test suite again.\n",
    "```python\n",
    "# tutorial.greeting\n",
    "from typing import Optional\n",
    "\n",
    "\n",
    "def greet(username: Optional[str] = None) -> str:\n",
    "    \"\"\"Greet a given user.\n",
    "\n",
    "    When no user is given, this function will return \"Hello World!\".\n",
    "\n",
    "    parameters\n",
    "    ----------\n",
    "    username: Optional[str]\n",
    "        Name of the user.\n",
    "\n",
    "    returns\n",
    "    -------\n",
    "    str\n",
    "        Personalized greeting.\n",
    "    \"\"\"\n",
    "    username = \"World\" if username is None else username\n",
    "    return f\"Hello {username}!\"\n",
    "\n",
    "```\n",
    "```bash\n",
    "pytest ./tests\n",
    "```\n",
    "This time, the test succeeded. Our implementation is successful 🎉"
   ]
  },
  {
   "cell_type": "markdown",
   "id": "523c1b0f-c67f-4b5a-835e-f1d5fdc52c01",
   "metadata": {},
   "source": [
    "## 💻 **Practice Time** 💻"
   ]
  },
  {
   "cell_type": "markdown",
   "id": "a5a4f3e4-8656-4d39-9714-832047bbf495",
   "metadata": {},
   "source": [
    "Write a test case for the following function.\n",
    "<br/>You can use the template provided in `tutorial/arrays.py` and `tests/test_arrays.py`.\n",
    "\n",
    "```python\n",
    "# tutorial.arrays\n",
    "from typing import Iterable, Tuple\n",
    "\n",
    "\n",
    "def min_max(arr: Iterable[int]) -> Tuple[int, int]:\n",
    "    \"\"\"Get the min and max of an iterable.\n",
    "    \n",
    "    parameters\n",
    "    ----------\n",
    "    arr: Iterable[int]\n",
    "        List with integer values.\n",
    "    \n",
    "    returns\n",
    "    -------\n",
    "    tuple[int, int]\n",
    "        minimum and maximum value of arr.\n",
    "    \"\"\"\n",
    "    pass\n",
    "\n",
    "```"
   ]
  },
  {
   "cell_type": "markdown",
   "id": "399ed0df-bc18-4770-a5d5-b34688516b97",
   "metadata": {
    "jp-MarkdownHeadingCollapsed": true,
    "tags": []
   },
   "source": [
    "### Solution"
   ]
  },
  {
   "cell_type": "markdown",
   "id": "1b23b2b9-5582-481c-89ca-2cb9d45c6809",
   "metadata": {},
   "source": [
    "```python\n",
    "# tests.test_arrays\n",
    "from tutorial.arrays import min_max\n",
    "\n",
    "\n",
    "def test_min_max() -> None:\n",
    "    assert min_max(range(10)) == (0, 9)\n",
    "    assert min_max([7, 4, 2, 8, 1, 3]) == (1, 8)\n",
    "    assert min_max([1]) == (1, 1)\n",
    "    \n",
    "```\n",
    "\n",
    "```python\n",
    "# tutorial.arrays\n",
    "from typing import Iterable, Tuple\n",
    "\n",
    "\n",
    "def min_max(arr: Iterable[int]) -> Tuple[int, int]:\n",
    "    \"\"\"Get the min and max of a list.\n",
    "    \n",
    "    parameters\n",
    "    ----------\n",
    "    arr: list[int]\n",
    "        List with integer values.\n",
    "    \n",
    "    returns\n",
    "    -------\n",
    "    tuple(int, int)\n",
    "        minimum and maximum value of arr.\n",
    "    \"\"\"\n",
    "    return min(arr), max(arr)\n",
    "\n",
    "```"
   ]
  },
  {
   "cell_type": "markdown",
   "id": "c3aa48ed-7602-4c94-8404-a371471a1d20",
   "metadata": {
    "tags": []
   },
   "source": [
    "---\n",
    "# Version Control with Git and GitLab"
   ]
  },
  {
   "cell_type": "markdown",
   "id": "e97f1b39-c5e0-4e52-93a2-1b256b8f769f",
   "metadata": {
    "tags": []
   },
   "source": [
    "Additional material:\n",
    "- [Git cheatsheet](https://education.github.com/git-cheat-sheet-education.pdf)\n",
    "- [Git reference](https://git-scm.com/docs)\n",
    "- [Visual breakdown of Git](https://marklodato.github.io/visual-git-guide/index-en.html)\n",
    "- [In-depth internals of Git](https://github.com/pluralsight/git-internals-pdf)"
   ]
  },
  {
   "cell_type": "markdown",
   "id": "111ea084-e53f-491c-abe4-fc8ae2343c7d",
   "metadata": {},
   "source": [
    "Keeping track of different version of a project can be a tedious task. Git aims at solving this issue by offering a suite of commands to create and manage different version of a repository in a covinient fashion.\n",
    "Git allows to track, view, delete, edit different version of a project; and plenty more.\n",
    "<br/>Moreover, Git brings an easy way to work on different version of code concurrently and merge it back together. This is great when working in a team."
   ]
  },
  {
   "cell_type": "markdown",
   "id": "1950853a-7aeb-4420-87c1-f7c7bb04cb38",
   "metadata": {
    "tags": []
   },
   "source": [
    "## Git workflow and common practices"
   ]
  },
  {
   "cell_type": "markdown",
   "id": "db996857-979e-4c4b-8ba4-0f3f9b5d0c17",
   "metadata": {
    "tags": []
   },
   "source": [
    "### Initializing a Git repository"
   ]
  },
  {
   "cell_type": "markdown",
   "id": "84b3afc8-5e56-4b15-af6c-36bc6a62d69b",
   "metadata": {
    "tags": []
   },
   "source": [
    "The first step is to tell Git that we want to keep track of files in this repository.\n",
    "To initialize an existing directory as a Git repository, use the following command\n",
    "```bash\n",
    "git init\n",
    "```\n",
    "**Note:** it is also possible to initialize a Git repository at a given location using\n",
    "```bash\n",
    "git init <directory_path>\n",
    "```\n",
    "\n",
    "<span style=\"color:firebrick\">**Best practice:**</span> after creating a new project it is recommended to create an empty commit. The rational will be explained later in this tutorial.\n",
    "This can be done using\n",
    "```bash\n",
    "git commit --allow-empty -m \"[EMPTY] Initial commit.\"\n",
    "```"
   ]
  },
  {
   "cell_type": "markdown",
   "id": "2ed93c4f-3cb9-43f3-948a-4afc287ea5b8",
   "metadata": {
    "tags": []
   },
   "source": [
    "### Minimal configuration of Git"
   ]
  },
  {
   "cell_type": "markdown",
   "id": "2ac3fb09-5a21-41d6-bcef-1fea02b9a898",
   "metadata": {
    "tags": []
   },
   "source": [
    "Before we start using Git, we need to do some minimal configuration.\n",
    "Use `git config` to set up a username and an email as follow\n",
    "```bash\n",
    "git config --global user.name “[firstname lastname]”\n",
    "git config --global user.email “[valid-email]”\n",
    "```\n",
    "This is important for when collaborating with other users as it will help identifying who contributed which part of the project.\n",
    "<br/>**Note:** when using `--global` this will set it up for any Git repository for your user on the computer. Therefore, it can be done only once."
   ]
  },
  {
   "cell_type": "markdown",
   "id": "9ac20eca-8fac-41e9-a5ec-564298cb84aa",
   "metadata": {
    "tags": []
   },
   "source": [
    "### An overview of the different Git states"
   ]
  },
  {
   "cell_type": "markdown",
   "id": "0799c190-0bb7-473d-ab6e-f9991ce08661",
   "metadata": {},
   "source": [
    "There are two main states in Git: **tracked** and **untracked**.\n",
    "\n",
    "Tracked files are files from a previous snapshot or that were newly staged; they can be unmodified, modified or staged. i.e. those are the files that Git knows about.\n",
    "\n",
    "Untracked files are every other files. They are files in your working directory that Git is not tracking."
   ]
  },
  {
   "cell_type": "markdown",
   "id": "992df8ec-fd8b-43a4-a34f-1746d9d4465e",
   "metadata": {},
   "source": [
    "<img src=\"./figures/lifecycle.png\">"
   ]
  },
  {
   "cell_type": "markdown",
   "id": "3d43a88d-d6f1-4064-94fa-622cf3ad55f5",
   "metadata": {},
   "source": [
    "source: [https://git-scm.com/book/en/v2/Git-Basics-Recording-Changes-to-the-Repository](https://git-scm.com/book/en/v2/Git-Basics-Recording-Changes-to-the-Repository)"
   ]
  },
  {
   "cell_type": "markdown",
   "id": "41eed09e-45e6-4e37-ba14-eb6603f6a8eb",
   "metadata": {
    "tags": []
   },
   "source": [
    "### Keeping track of files"
   ]
  },
  {
   "cell_type": "markdown",
   "id": "5c80adfa-0440-4fa0-9f16-34d4376e6522",
   "metadata": {},
   "source": [
    "After initializing a repository, we will wanted to start tracking files in Git.\n",
    "\n",
    "To view the status of a repository including which files are untracked or modified, use the following command\n",
    "<br/>**Note:** Optionally, a path can be specified to only get the status of a specific file or sub-directory.\n",
    "```bash\n",
    "git status [path]\n",
    "```\n",
    "\n",
    "To move an untracked or modified file to the staging area, use the following command \n",
    "```bash\n",
    "git add [file]\n",
    "```\n",
    "\n",
    "To snapshot the currently staged files in a Git repository, use this command\n",
    "```bash\n",
    "git commit\n",
    "```\n",
    "You will be prompted to enter a commit message.\n",
    "<br/><span style=\"color:firebrick\">**Best practice:**</span> write a concise and descriptive message for you commits. Others, and your future self, will thank you.\n",
    "\n",
    "**Note:** It is also possible to write the commit message as part of the command, using the the `-m` flag follow by the message.\n",
    "```bash\n",
    "git commit -m \"[descriptive message]\"\n",
    "```\n",
    "\n",
    "Looking at the status of the repostory again, we see that the files we commited are no longer untracked.\n",
    "```bash\n",
    "git status\n",
    "```\n",
    "\n",
    "As a project progress, you might want to look back at its history.\n",
    "This will be useful to see when changes were made and who made them.\n",
    "To list the log of a Git repository, use the following command\n",
    "```bash\n",
    "git log\n",
    "```"
   ]
  },
  {
   "cell_type": "markdown",
   "id": "7678eef0-fa7e-4728-8027-ef1e27293337",
   "metadata": {},
   "source": [
    "### Working on different features concurrently"
   ]
  },
  {
   "cell_type": "markdown",
   "id": "167f2f7c-58aa-4145-8e51-14d4164401cd",
   "metadata": {},
   "source": [
    "A critical component of Git are branches. They allows the creation of the repository that diverges from the main project.\n",
    "In other words, branches in Git let you work on different features of a project concurently. Moreover, it keeps the code of in-development features independent from the main code base as well as other in-development code."
   ]
  },
  {
   "cell_type": "markdown",
   "id": "9e79151c-d1d1-48d4-b1f3-699771ae1be0",
   "metadata": {},
   "source": [
    "<img src=\"./figures/branches.svg\" width=650>"
   ]
  },
  {
   "cell_type": "markdown",
   "id": "5734822d-ccf1-404e-9dff-f0dad904d6d6",
   "metadata": {},
   "source": [
    "source: [https://www.atlassian.com/git/tutorials/using-branches](https://www.atlassian.com/git/tutorials/using-branches)"
   ]
  },
  {
   "cell_type": "markdown",
   "id": "e62d0f08-a63b-487c-ba0c-b7104e7156ec",
   "metadata": {},
   "source": [
    "To list all the current branch of the local repository, use the following command\n",
    "```bash\n",
    "git branch\n",
    "```\n",
    "\n",
    "**Note:** If your default branch is named `master` rename it to `main`, using this command\n",
    "```bash\n",
    "git branch -m master main\n",
    "```\n",
    "\n",
    "To create a new branch from the current commit, use the command\n",
    "```bash\n",
    "git branch [branch-name]\n",
    "```\n",
    "\n",
    "To checkout (switch) from one branch to another, use this command\n",
    "```bash\n",
    "git checkout [branch-name]\n",
    "```\n",
    "\n",
    "To delete a branch, use this command\n",
    "```bash\n",
    "git branch -d [branch-name]\n",
    "```\n",
    "\n",
    "**Note:** when creating a new branch and directly checking out to it, this shortcut is convinient\n",
    "```bash\n",
    "git checkout -b [branch-name]\n",
    "```"
   ]
  },
  {
   "cell_type": "markdown",
   "id": "4308ddc0-bf55-4fde-9b7d-8ede812f74ad",
   "metadata": {
    "tags": []
   },
   "source": [
    "### Sharing your code on GitLab"
   ]
  },
  {
   "cell_type": "markdown",
   "id": "047cf4e3-3800-4d44-a619-533bcb5ef27b",
   "metadata": {},
   "source": [
    "To share code with others, a central location is needed to store the changes brought to the files in the repository. In Git, this is called a **remote**.\n",
    "<br/>**Note:** For the purpose of this tutorial, GitLab is used as remote."
   ]
  },
  {
   "cell_type": "markdown",
   "id": "c21e3447-3619-427d-a4ea-af8995eb1920",
   "metadata": {
    "tags": []
   },
   "source": [
    "#### Creating a repository on GitLab"
   ]
  },
  {
   "cell_type": "markdown",
   "id": "88ddc81b-1921-41d0-b343-e2f181a34b3e",
   "metadata": {},
   "source": [
    "In the middle top bar of GitLab you will find a `+` icon.\n",
    "<br/><img src=\"./figures/topbar.png\" width=1000>"
   ]
  },
  {
   "cell_type": "markdown",
   "id": "3d18c5ee-020b-4c35-98c8-26307c3ef4ce",
   "metadata": {},
   "source": [
    "Click on it then select **\"New project/repository\"**.\n",
    "<br/><img src=\"./figures/new.png\" width=\"250\">"
   ]
  },
  {
   "cell_type": "markdown",
   "id": "ad5d3f84-4b7e-4372-be0f-ba4e7a898773",
   "metadata": {},
   "source": [
    "When creating the project, make sure to untoggle the **\"Initialize repository with a README\"**. Since we already create a local project, this would result in conflict with the repository history.\n",
    "<br/><img src=\"./figures/no_readme.png\" width=650>"
   ]
  },
  {
   "cell_type": "markdown",
   "id": "2abd17d8-635a-4b0d-917f-d5a7165048e2",
   "metadata": {},
   "source": [
    "Lasty, to give permission for Git to interact with GitLab an SSH key should be added to your account. Go on your **profile (top right)**, then into **Preferences**, and into **SSH Keys** into the menu. You can paste your SSH public key there.\n",
    "\n",
    "In case you do not have an SSH key, you can generate one on your project VM using\n",
    "<br/>**Note:** The `<comment>` is optional, but can be helpful in identifying where the SSH key was generated.\n",
    "```bash\n",
    "ssh-keygen -t ed25519 -C \"<comment>\"\n",
    "```\n",
    "After running this command, you will find your SSH public key at the location `~/.ssh/id_ed25519.pub`."
   ]
  },
  {
   "cell_type": "markdown",
   "id": "ffd07641-d124-4980-8068-2bb2f1e85cce",
   "metadata": {},
   "source": [
    "Once the project is created and ssh is configured, locate the `clone` button on the page. Then copy the url under **Clone with SSH**.\n",
    "<br/><img src=\"./figures/ssh_url.png\" width=\"350\">"
   ]
  },
  {
   "cell_type": "markdown",
   "id": "431b92b6-a124-4a38-a9f5-4d62617d177d",
   "metadata": {
    "tags": []
   },
   "source": [
    "#### Interaction between Git and GitLab"
   ]
  },
  {
   "cell_type": "markdown",
   "id": "a55d5c71-55cb-4532-a8fd-c205c7873e5d",
   "metadata": {},
   "source": [
    "To upload code to a remote repository, Git needs to be aware of it by registering the remote as follow\n",
    "```bash\n",
    "git remote add [remote-name] [url]\n",
    "```\n",
    "\n",
    "To push (upload) the version of the Git repository to a remote location, use the command\n",
    "```bash\n",
    "git push\n",
    "```\n",
    "\n",
    "**Note:** the first time a branch is pushed, it is required to specify the remote and the name of the branch for the remote.\n",
    "```bash\n",
    "git push -u [remote-name] [current-branch]\n",
    "```\n",
    "\n",
    "When changes are made on a remote repository, it is possible to pull (download) them locally using\n",
    "```bash\n",
    "git pull\n",
    "```"
   ]
  },
  {
   "cell_type": "markdown",
   "id": "198c00ab-76b6-4efd-85e3-288556d3f049",
   "metadata": {
    "tags": []
   },
   "source": [
    "### Managing code on GitLab"
   ]
  },
  {
   "cell_type": "markdown",
   "id": "906277e2-6ce3-4ba7-8697-cbf9f13f2767",
   "metadata": {},
   "source": [
    "Let's jump onto GitLab to learn how to:\n",
    "- Create a merge request\n",
    "- Write an issue\n",
    "- Fork a repository"
   ]
  },
  {
   "cell_type": "markdown",
   "id": "219747b2-e184-4207-8d25-e656bc398d7d",
   "metadata": {},
   "source": [
    "### 💻 **Practice Time** 💻"
   ]
  },
  {
   "cell_type": "markdown",
   "id": "28fe4634-936d-42ec-91b5-6e0ac05b52a6",
   "metadata": {},
   "source": [
    "During this exercise, you will:\n",
    "1. Create a new branch derivated from `main`.\n",
    "1. Commit the `requirements.txt` file available in the tutorial package.\n",
    "1. Push the changes on GitLab.\n",
    "1. Make a merge request.\n",
    "1. Pull the remote changes from the `main` branches to the local repository."
   ]
  },
  {
   "cell_type": "markdown",
   "id": "63a5b002-ab8e-4b1b-918f-ab601ee9aeba",
   "metadata": {},
   "source": [
    "### Other useful commands"
   ]
  },
  {
   "cell_type": "markdown",
   "id": "ded27068-7dc2-4422-ab52-90c21db6aaf8",
   "metadata": {},
   "source": [
    "To download a fresh project (not available locally), use this command\n",
    "```bash\n",
    "git clone\n",
    "```\n",
    "\n",
    "To remove files from the staging and keep the change in the working directory, use the following command\n",
    "<br/><span style=\"color:firebrick\">**Warning:**</span> Misuse of the `git reset` command could result in loss of work. Moreover, **AVOID** using git reset on public history (shared with others).\n",
    "```bash\n",
    "git reset [files]\n",
    "```\n",
    "\n",
    "It is possible to merge the history of another branch into the current one, using this command\n",
    "```bash\n",
    "git merge [branch]\n",
    "```"
   ]
  },
  {
   "cell_type": "markdown",
   "id": "7ff85ccf-28bc-4846-b2bd-a7cba085e464",
   "metadata": {},
   "source": [
    "<br/><img src=\"./figures/merge.svg\" width=\"650\">\n"
   ]
  },
  {
   "cell_type": "markdown",
   "id": "3e914b33-3e65-4cde-b2af-7b80845014d5",
   "metadata": {},
   "source": [
    "source: [https://www.atlassian.com/git/tutorials/merging-vs-rebasing](https://www.atlassian.com/git/tutorials/merging-vs-rebasing)"
   ]
  },
  {
   "cell_type": "markdown",
   "id": "d1310d90-9629-43fe-80f9-c1032d56631c",
   "metadata": {
    "jp-MarkdownHeadingCollapsed": true,
    "tags": []
   },
   "source": [
    "## Advanced Git usage (Optional)"
   ]
  },
  {
   "cell_type": "markdown",
   "id": "e5084d6b-6ee4-4d8c-8691-bd42c09e655f",
   "metadata": {
    "tags": []
   },
   "source": [
    "### Showing differences between versions of the repository"
   ]
  },
  {
   "cell_type": "markdown",
   "id": "368931cb-635a-41a1-b540-afc58a5179c7",
   "metadata": {},
   "source": [
    "To uncommitted changes in the repository use\n",
    "```bash\n",
    "git diff\n",
    "```\n",
    "\n",
    "It is also possible to see the uncommitted changes of a set of files\n",
    "```bash\n",
    "git diff [files]\n",
    "```\n",
    "\n",
    "Or between two commits\n",
    "```bash\n",
    "git diff [commit-1] [commit-2]\n",
    "```\n",
    "\n",
    "Or between two branches\n",
    "```bash\n",
    "git diff [branch-1] [branch-2]\n",
    "```"
   ]
  },
  {
   "cell_type": "markdown",
   "id": "d65ad0b4-c998-4a02-9eed-adfed6162df2",
   "metadata": {},
   "source": [
    "To learn more about the numerous options of `git diff` you can have a look into those resources:\n",
    "- [Git diff documentation](https://git-scm.com/docs/git-diff)\n",
    "- [Atlassian | Git diff tutorial](https://www.atlassian.com/git/tutorials/saving-changes/git-diff)"
   ]
  },
  {
   "cell_type": "markdown",
   "id": "3c03bda9-942d-40b2-afd8-79ec118ea43a",
   "metadata": {
    "tags": []
   },
   "source": [
    "### Selecting a sample of commits from another branch"
   ]
  },
  {
   "cell_type": "markdown",
   "id": "95cc482e-09c3-474d-8a2c-341199ccec80",
   "metadata": {},
   "source": [
    "To apply a sample of commits from another branch onto the current one, use the following command\n",
    "```bash\n",
    "git cherry-pick [commits]\n",
    "```"
   ]
  },
  {
   "cell_type": "markdown",
   "id": "fbaac475-fa30-445c-91ca-00c436b242d2",
   "metadata": {
    "tags": []
   },
   "source": [
    "### Commiting temporarely"
   ]
  },
  {
   "cell_type": "markdown",
   "id": "462cbcd5-97d1-4456-a661-1fe435ef7617",
   "metadata": {},
   "source": [
    "Git allows to save change temporarely in a stash.\n",
    "<br/>To save the current changes from the working directory, use the following command\n",
    "```bash\n",
    "git stash push -m [message]\n",
    "```\n",
    "\n",
    "To see the status of the current stash, use this command\n",
    "```bash\n",
    "git stash list\n",
    "```\n",
    "\n",
    "To show the difference between the stash entry and the commit back when the entry was created, use the command\n",
    "```bash\n",
    "git stash show stash@{[stash-id]}\n",
    "# Example git show apply stash@{0}\n",
    "```\n",
    "\n",
    "To apply the change saved in a stash entry to the current working tree, use this command\n",
    "```bash\n",
    "git stash apply stash@{[stash-id]}\n",
    "# Example git stash apply stash@{1}\n",
    "```\n",
    "\n",
    "To remove and entry from the stash, use the command\n",
    "```bash\n",
    "git stash drop stash@{[stash-id]}\n",
    "# Example git stash drop stash@{2}\n",
    "```\n",
    "\n",
    "To both apply to the working tree then remove the entry from the stash, use this shortcut\n",
    "```bash\n",
    "git stash pop stash@{[stash-id]}\n",
    "# Example git pop apply stash@{0}\n",
    "```\n",
    "\n",
    "To remove all entries from the stash, use this command\n",
    "```bash\n",
    "git stash clear\n",
    "```"
   ]
  },
  {
   "cell_type": "markdown",
   "id": "59bc63bb-f224-4e92-8585-2e6238402a6c",
   "metadata": {
    "tags": []
   },
   "source": [
    "### Editing history"
   ]
  },
  {
   "cell_type": "markdown",
   "id": "5c6aedd9-9c3c-4d22-a94b-399a9bd8d3dd",
   "metadata": {},
   "source": [
    "As an alternative to `git merge`, it is possible to combine the commits from to branch, using this command\n",
    "```bash\n",
    "git rebase [base-branch]\n",
    "```\n",
    "\n",
    "It is also possible to edit, squash, drop, etc. the commit history interactively, using this command\n",
    "```bash\n",
    "git rebase -i\n",
    "```\n",
    "<br/>**Note:** To rebase interactively, there needs to be previous commits in the history. This is the rational for previously creating an empty commit at the start of the history.\n",
    "<br/><span style=\"color:firebrick\">**Warning:**</span> **AVOID** using `git rebase` on public history as it will rewrite the commits history."
   ]
  },
  {
   "cell_type": "markdown",
   "id": "282c055e-e9e6-4e51-aee6-5169caf80248",
   "metadata": {},
   "source": [
    "<br/><img src=\"./figures/rebase.svg\" width=\"650\">"
   ]
  },
  {
   "cell_type": "markdown",
   "id": "d6eb46b0-20a0-42ba-80bb-64f47986fdec",
   "metadata": {},
   "source": [
    "source: [https://www.atlassian.com/git/tutorials/merging-vs-rebasing](https://www.atlassian.com/git/tutorials/merging-vs-rebasing)"
   ]
  },
  {
   "cell_type": "markdown",
   "id": "6f3d8d1a-9fcf-4bcc-b055-4660796436c0",
   "metadata": {
    "tags": []
   },
   "source": [
    "---\n",
    "# Continous Integration using GitLab CI/CD"
   ]
  },
  {
   "cell_type": "markdown",
   "id": "95bded8b-11cf-46d5-a6a6-e433d4f065e5",
   "metadata": {
    "tags": []
   },
   "source": [
    "Additonal material:\n",
    "- [GitLab CI/CD Doc](https://docs.gitlab.com/ee/ci/)"
   ]
  },
  {
   "cell_type": "markdown",
   "id": "ede6abc8-19cf-4ca9-b1f6-0e9d16fb3a26",
   "metadata": {},
   "source": [
    "<span style=\"color:firebrick\">**Warning:**</span> Resource to spawn GitLab CI might be overused. Therefore, following along might be difficult."
   ]
  },
  {
   "cell_type": "markdown",
   "id": "bf93b06f-0c83-440a-9141-d1f2925d7d9d",
   "metadata": {},
   "source": [
    "Continuous integration (CI) is a great tool to detect earlier in the development process of software.\n",
    "The main idea of CI is to test every change to be merge into the production codebase in an automatic way.\n",
    "When new code is pushed onto a central repository, a job will be executed to run a suite of quality assurance tests to make sure the code is ready for production.\n",
    "Those tests can include: linting, unit tests, functional tests, and others.\n",
    "The objective of CI is to detect and fix errors early on, and therefore, reduce the lead time to create new features."
   ]
  },
  {
   "cell_type": "markdown",
   "id": "73348f11-e600-4030-9811-b90adaf10899",
   "metadata": {},
   "source": [
    "## A first CI job"
   ]
  },
  {
   "cell_type": "markdown",
   "id": "349a9e22-e94a-44d1-bd96-02700d5c3edc",
   "metadata": {},
   "source": [
    "As a first step, we will use the docker image for `python:3.8` and install the required dependencies before executing other scripts.\n",
    "```yaml\n",
    "image: python:3.8\n",
    "\n",
    "before_script:\n",
    "  - python3 -V\n",
    "  - pip install -r requirements.txt\n",
    "\n",
    "```"
   ]
  },
  {
   "cell_type": "markdown",
   "id": "a2ed6afe-e834-4fa4-9494-2e6fa065b945",
   "metadata": {},
   "source": [
    "We will add this first job to execute the tests suite from the repository.\n",
    "```yaml\n",
    "unit-test:\n",
    "  script:\n",
    "    - pytest -v -rfEs ./tests\n",
    "\n",
    "```"
   ]
  },
  {
   "cell_type": "markdown",
   "id": "dec5432a-38db-433b-a8d8-1c33890edda0",
   "metadata": {},
   "source": [
    "## Creating a pipeline with multiple stages"
   ]
  },
  {
   "cell_type": "markdown",
   "id": "c6d926fa-537b-489e-8d19-4c2077ae7987",
   "metadata": {},
   "source": [
    "When doing continuous integration, it is useful to separate the steps from a pipeline in multiple stages.\n",
    "<br/>For example\n",
    "<br/><img src=\"./figures/ci-stages.png\" width=\"350\">"
   ]
  },
  {
   "cell_type": "markdown",
   "id": "5c052d6a-d37f-452e-8493-60f073c0d819",
   "metadata": {},
   "source": [
    "We will replace the previous job with this pipeline composed of two stages and three jobs.\n",
    "<br/>Firtsly, the `Static Analysis` jobs will run, then the `Test` job can run. Moreover, for demonstration purpose, we allow the `mypy` job to fail without failing the whole pipeline.\n",
    "```yaml\n",
    "stages:\n",
    "  - Static Analysis\n",
    "  - Test\n",
    "\n",
    "black:\n",
    "  stage: Static Analysis\n",
    "  script:\n",
    "    - black ./tutorial ./tests\n",
    "\n",
    "mypy:\n",
    "  stage: Static Analysis\n",
    "  allow_failure: true\n",
    "  script:\n",
    "    - mypy ./tutorial ./tests\n",
    "\n",
    "unit-test:\n",
    "  stage: Test\n",
    "  script:\n",
    "    - pytest -v -rfEs ./tests\n",
    "\n",
    "```"
   ]
  },
  {
   "cell_type": "markdown",
   "id": "3cd27452-b0ee-4b5f-a930-aaf2a4992c5b",
   "metadata": {},
   "source": [
    "## Adding artifacts"
   ]
  },
  {
   "cell_type": "markdown",
   "id": "fd19da28-861d-4d03-ae64-404fb7ab9ff3",
   "metadata": {},
   "source": [
    "To have a nice report of our tests, we add an artifact generated by pytest.\n",
    "```yaml\n",
    "unit-test:\n",
    "  stage: Test\n",
    "  script:\n",
    "    - pytest --junitxml=report.xml -v -rfEs ./tests\n",
    "  artifacts:\n",
    "    when: always\n",
    "    reports:\n",
    "      junit: report.xml\n",
    "\n",
    "```"
   ]
  },
  {
   "cell_type": "markdown",
   "id": "8c0e9069-021c-49df-a508-b7c35db77249",
   "metadata": {},
   "source": [
    "## Using caching to accelerate our pipeline"
   ]
  },
  {
   "cell_type": "markdown",
   "id": "9876ce49-1148-41a7-ac8c-cc123fe0a293",
   "metadata": {},
   "source": [
    "We can use the caching feature offered by GitLab CI to avoid downloading the dependencies of the repository for every job."
   ]
  },
  {
   "cell_type": "markdown",
   "id": "cf005661-0888-440c-b77d-ec4e2f89593e",
   "metadata": {},
   "source": [
    "```yaml\n",
    "variables:\n",
    "  PIP_CACHE_DIR: \"$CI_PROJECT_DIR/.cache/pip\"\n",
    "\n",
    "cache:\n",
    "  paths:\n",
    "    - .cache/pip\n",
    "    - venv/\n",
    "\n",
    "before_script:\n",
    "  - python3 -V\n",
    "  - python3 -m venv ./venv\n",
    "  - source venv/bin/activate\n",
    "  - pip install -r requirements.txt\n",
    "\n",
    "```"
   ]
  },
  {
   "cell_type": "markdown",
   "id": "ab3e35fc-df5c-4f74-8746-8e529b39d30e",
   "metadata": {},
   "source": [
    "## An overview of the full pipeline"
   ]
  },
  {
   "cell_type": "markdown",
   "id": "f5aee803-6208-4d25-b30c-be8fe06aeb23",
   "metadata": {},
   "source": [
    "```yaml\n",
    "image: python:3.8\n",
    "\n",
    "variables:\n",
    "  PIP_CACHE_DIR: \"$CI_PROJECT_DIR/.cache/pip\"\n",
    "\n",
    "cache:\n",
    "  paths:\n",
    "    - .cache/pip\n",
    "    - venv/\n",
    "\n",
    "before_script:\n",
    "  - python3 -V\n",
    "  - python3 -m venv ./venv\n",
    "  - source venv/bin/activate\n",
    "  - pip install -r requirements.txt\n",
    "  \n",
    "stages:\n",
    "  - Static Analysis\n",
    "  - Test\n",
    "\n",
    "black:\n",
    "  stage: Static Analysis\n",
    "  script:\n",
    "    - black ./tutorial ./tests\n",
    "\n",
    "mypy:\n",
    "  stage: Static Analysis\n",
    "  allow_failure: true\n",
    "  script:\n",
    "    - mypy ./tutorial ./tests\n",
    "\n",
    "unit-test:\n",
    "  stage: Test\n",
    "  script:\n",
    "    - pytest --junitxml=report.xml -v -rfEs ./tests\n",
    "  artifacts:\n",
    "    when: always\n",
    "    reports:\n",
    "      junit: report.xml\n",
    "\n",
    "```"
   ]
  },
  {
   "cell_type": "markdown",
   "id": "ce3c20e9-c145-4911-b4c6-f79ff4e9f11a",
   "metadata": {
    "tags": []
   },
   "source": [
    "---\n",
    "# Keypoints from this tutorial\n",
    "- Creating test with Pytest\n",
    "- Git\n",
    "    * Basic Git workflow using: status, add, commit, log, push/pull.\n",
    "    * Working on different version of the same repository using branches.\n",
    "    * Comparing and combining different version of a repository.\n",
    "- GitLab\n",
    "    * Basic usage of GitLab to manage a repository.\n",
    "    * Creating a continuous integration pipeline to lint and test code.\n"
   ]
  },
  {
   "cell_type": "code",
   "execution_count": null,
   "id": "9735760a-1e3d-4a67-8675-d4cf74688f7b",
   "metadata": {},
   "outputs": [],
   "source": []
  }
 ],
 "metadata": {
  "kernelspec": {
   "display_name": "Python 3 (ipykernel)",
   "language": "python",
   "name": "python3"
  },
  "language_info": {
   "codemirror_mode": {
    "name": "ipython",
    "version": 3
   },
   "file_extension": ".py",
   "mimetype": "text/x-python",
   "name": "python",
   "nbconvert_exporter": "python",
   "pygments_lexer": "ipython3",
   "version": "3.8.12"
  }
 },
 "nbformat": 4,
 "nbformat_minor": 5
}
